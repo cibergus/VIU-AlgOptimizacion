{
 "cells": [
  {
   "cell_type": "markdown",
   "metadata": {
    "colab_type": "text",
    "id": "view-in-github"
   },
   "source": [
    "<a href=\"https://colab.research.google.com/github/cibergus/VIU-AlgOptimizacion/blob/main/AG1/Sort_Test.ipynb\" target=\"_parent\"><img src=\"https://colab.research.google.com/assets/colab-badge.svg\" alt=\"Open In Colab\"/></a>"
   ]
  },
  {
   "cell_type": "code",
   "execution_count": 1,
   "metadata": {
    "colab": {
     "base_uri": "https://localhost:8080/"
    },
    "id": "w9eBj07g2Sg6",
    "outputId": "8cc127ad-ba01-4010-a4f5-e24c1f3d0d0a"
   },
   "outputs": [
    {
     "name": "stdout",
     "output_type": "stream",
     "text": [
      "Collecting sorting\n",
      "  Downloading sorting-1.0.3.tar.gz (3.7 kB)\n",
      "  Preparing metadata (setup.py) ... \u001b[?25l\u001b[?25hdone\n",
      "Building wheels for collected packages: sorting\n",
      "  Building wheel for sorting (setup.py) ... \u001b[?25l\u001b[?25hdone\n",
      "  Created wheel for sorting: filename=sorting-1.0.3-py3-none-any.whl size=5861 sha256=4c6f53d536b2eb1b8ed4f74be316e5d7f8cb1a2f160d773dd8663815cd3c9498\n",
      "  Stored in directory: /root/.cache/pip/wheels/be/29/6f/37bba489062514c58a40b6581a4fdb006cc01eb569eb6f9f35\n",
      "Successfully built sorting\n",
      "Installing collected packages: sorting\n",
      "Successfully installed sorting-1.0.3\n"
     ]
    }
   ],
   "source": [
    "!pip install sorting"
   ]
  },
  {
   "cell_type": "code",
   "execution_count": 7,
   "metadata": {
    "execution": {
     "iopub.execute_input": "2023-12-13T18:37:58.715797Z",
     "iopub.status.busy": "2023-12-13T18:37:58.714713Z",
     "iopub.status.idle": "2023-12-13T18:37:58.729250Z",
     "shell.execute_reply": "2023-12-13T18:37:58.726672Z",
     "shell.execute_reply.started": "2023-12-13T18:37:58.715747Z"
    }
   },
   "outputs": [
    {
     "name": "stdout",
     "output_type": "stream",
     "text": [
      "[2, 13, 7]\n"
     ]
    }
   ],
   "source": [
    "A = [1,2,6,7,12,13,15]\n",
    "B = [2,3,4,7,13]\n",
    "print(list(set(A) & set(B)))"
   ]
  },
  {
   "cell_type": "code",
   "execution_count": null,
   "metadata": {},
   "outputs": [],
   "source": []
  }
 ],
 "metadata": {
  "colab": {
   "authorship_tag": "ABX9TyOV9lXe8MVZQEtefc9Z5ZML",
   "include_colab_link": true,
   "provenance": []
  },
  "kernelspec": {
   "display_name": "Python 3 (ipykernel)",
   "language": "python",
   "name": "python3"
  },
  "language_info": {
   "codemirror_mode": {
    "name": "ipython",
    "version": 3
   },
   "file_extension": ".py",
   "mimetype": "text/x-python",
   "name": "python",
   "nbconvert_exporter": "python",
   "pygments_lexer": "ipython3",
   "version": "3.9.17"
  }
 },
 "nbformat": 4,
 "nbformat_minor": 4
}
