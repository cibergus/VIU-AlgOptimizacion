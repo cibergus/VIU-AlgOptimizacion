{
  "cells": [
    {
      "metadata": {
        "id": "kQn6fbhgtH9I"
      },
      "cell_type": "markdown",
      "source": [
        "# Algoritmos de optimización - Reto 1\n",
        "\n",
        "Nombre: Augusto Javier Ibañez Garcia  \n",
        "Github: <br>"
      ]
    },
    {
      "metadata": {
        "id": "_t62Ge7ZuKnC"
      },
      "cell_type": "markdown",
      "source": [
        "## Torres de Hanoi con Divide y vencerás\n",
        "\n",
        "Resuelve el problema de las [Torres de Hanoi](https://es.wikipedia.org/wiki/Torres_de_Han%C3%B3i) para un número arbitrario de fichas utilizando la técnica de divide y vencerás."
      ]
    },
    {
      "metadata": {
        "id": "i32G0CUQvauE",
        "trusted": false,
        "colab": {
          "base_uri": "https://localhost:8080/"
        },
        "outputId": "93e2bf6e-a3fe-45ec-9c11-0e991ef054ec"
      },
      "cell_type": "code",
      "source": [
        "# Torres de Hanoi\n",
        "\n",
        "\n",
        "def moverTorre(n, origen, destino, auxiliar):\n",
        "    if n == 1:\n",
        "        print(f\"Mover disco de {origen} a {destino}\")\n",
        "    else:\n",
        "        moverTorre(n-1, origen, auxiliar, destino)\n",
        "        print(f\"Mover disco de {origen} a {destino}\")\n",
        "        moverTorre(n-1, auxiliar, destino, origen)\n",
        "\n",
        "# Número de discos\n",
        "n_discos = 3\n",
        "moverTorre(n_discos, 'A', 'C', 'B')"
      ],
      "execution_count": 1,
      "outputs": [
        {
          "output_type": "stream",
          "name": "stdout",
          "text": [
            "Mover disco de A a C\n",
            "Mover disco de A a B\n",
            "Mover disco de C a B\n",
            "Mover disco de A a C\n",
            "Mover disco de B a A\n",
            "Mover disco de B a C\n",
            "Mover disco de A a C\n"
          ]
        }
      ]
    },
    {
      "metadata": {
        "id": "Ci2gv2nUHnjK"
      },
      "cell_type": "markdown",
      "source": [
        "## Sucesión de Fibonacci\n",
        "\n",
        "Cálcula el n-ésimo término de la [Sucesión de Fibonacci](https://es.wikipedia.org/wiki/Sucesi%C3%B3n_de_Fibonacci) mediante un algoritmo recursivo y otro iterativo. Representa gráficamente cómo crece el tiempo de cómputo en función del número de términos para ambos algoritmos."
      ]
    },
    {
      "metadata": {
        "id": "74qZZAekiNYR",
        "trusted": false,
        "colab": {
          "base_uri": "https://localhost:8080/",
          "height": 448
        },
        "outputId": "ba4fa8f9-1b44-46ea-a921-40cadd0a84e0"
      },
      "cell_type": "code",
      "source": [
        "#Sucesión_de_Fibonacci\n",
        "\n",
        "def fibonacci_recursivo(n):\n",
        "    if n <= 1:\n",
        "        return n\n",
        "    else:\n",
        "        return fibonacci_recursivo(n-1) + fibonacci_recursivo(n-2)\n",
        "\n",
        "def fibonacci_iterativo(n):\n",
        "    a, b = 0, 1\n",
        "    for i in range(n):\n",
        "        a, b = b, a + b\n",
        "    return a\n",
        "\n",
        "import time\n",
        "import matplotlib.pyplot as plt\n",
        "\n",
        "# Tamaños de muestra para n\n",
        "n_samples = list(range(30))\n",
        "\n",
        "# Listas para almacenar los tiempos de cómputo\n",
        "tiempos_recursivos = []\n",
        "tiempos_iterativos = []\n",
        "\n",
        "# Medir los tiempos para la función recursiva\n",
        "for n in n_samples:\n",
        "    inicio = time.time()\n",
        "    fibonacci_recursivo(n)\n",
        "    fin = time.time()\n",
        "    tiempos_recursivos.append(fin - inicio)\n",
        "\n",
        "# Medir los tiempos para la función iterativa\n",
        "for n in n_samples:\n",
        "    inicio = time.time()\n",
        "    fibonacci_iterativo(n)\n",
        "    fin = time.time()\n",
        "    tiempos_iterativos.append(fin - inicio)\n",
        "\n",
        "# Graficar los resultados\n",
        "plt.plot(n_samples, tiempos_recursivos, label='Recursivo', color='red')\n",
        "plt.plot(n_samples, tiempos_iterativos, label='Iterativo', color='blue')\n",
        "plt.xlabel('n-ésimo término')\n",
        "plt.ylabel('Tiempo de cómputo (s)')\n",
        "plt.legend()\n",
        "plt.show()"
      ],
      "execution_count": 2,
      "outputs": [
        {
          "output_type": "display_data",
          "data": {
            "text/plain": [
              "<Figure size 640x480 with 1 Axes>"
            ],
            "image/png": "[encoded data removed]"
          },
          "metadata": {}
        }
      ]
    },
    {
      "metadata": {
        "id": "RgT5XJsZ429L"
      },
      "cell_type": "markdown",
      "source": [
        "## Devolución de cambio por técnica voraz\n",
        "\n",
        "Resuelve el [Problema del Cambio de Moneda](https://es.wikipedia.org/wiki/Problema_de_cambio_de_monedas) utilizando una técnica voraz."
      ]
    },
    {
      "metadata": {
        "id": "uJtftBLU4-ap",
        "trusted": false,
        "colab": {
          "base_uri": "https://localhost:8080/"
        },
        "outputId": "7fba4265-be70-4ff9-e41e-4618fba8d26c"
      },
      "cell_type": "code",
      "source": [
        "# Problema del cambio de moneda\n",
        "\n",
        "def devolucionCambioVoraz(cantidad, denominaciones):\n",
        "    denominaciones.sort(reverse=True)\n",
        "    cambio = []\n",
        "    for denominacion in denominaciones:\n",
        "        monedas = cantidad // denominacion\n",
        "        cantidad -= monedas * denominacion\n",
        "        cambio.extend([denominacion] * monedas)\n",
        "    return cambio\n",
        "\n",
        "# Ejemplo de denominaciones y cantidad\n",
        "denominaciones = [50, 20, 10, 5, 2, 1]\n",
        "cantidad = 93\n",
        "\n",
        "# Ejecutar la función\n",
        "cambio = devolucionCambioVoraz(cantidad, denominaciones)\n",
        "print(f\"Cambio para {cantidad} céntimos: {cambio}\")\n"
      ],
      "execution_count": 3,
      "outputs": [
        {
          "output_type": "stream",
          "name": "stdout",
          "text": [
            "Cambio para 93 céntimos: [50, 20, 20, 2, 1]\n"
          ]
        }
      ]
    },
    {
      "metadata": {
        "id": "g8M9GTvy_Fa3"
      },
      "cell_type": "markdown",
      "source": [
        "## N-Reinas por técnica de vuelta atrás\n",
        "Resuelve el [Problema de las N-Reinas](https://es.wikipedia.org/wiki/Problema_de_las_ocho_reinas) en un tablero de dimensión N mediante la técnica de la vuelta atrás (backtraking)."
      ]
    },
    {
      "metadata": {
        "id": "FqOPyCmv_K65",
        "trusted": false,
        "colab": {
          "base_uri": "https://localhost:8080/"
        },
        "outputId": "258a9249-2f46-4b6b-b718-f9e2f9daf477"
      },
      "cell_type": "code",
      "source": [
        "# Problema de las N-Reinas\n",
        "\n",
        "def esSeguro(tablero, fila, columna, N):\n",
        "    # Comprobar si la columna tiene otra reina\n",
        "    for i in range(fila):\n",
        "        if tablero[i][columna] == 1:\n",
        "            return False\n",
        "\n",
        "    # Comprobar diagonales superiores\n",
        "    for i, j in zip(range(fila, -1, -1), range(columna, -1, -1)):\n",
        "        if tablero[i][j] == 1:\n",
        "            return False\n",
        "\n",
        "    for i, j in zip(range(fila, -1, -1), range(columna, N)):\n",
        "        if tablero[i][j] == 1:\n",
        "            return False\n",
        "\n",
        "    return True\n",
        "\n",
        "def resolverNReinas(tablero, fila, N):\n",
        "    if fila >= N:\n",
        "        return True\n",
        "\n",
        "    for columna in range(N):\n",
        "        if esSeguro(tablero, fila, columna, N):\n",
        "            tablero[fila][columna] = 1\n",
        "            if resolverNReinas(tablero, fila + 1, N):\n",
        "                return True\n",
        "            tablero[fila][columna] = 0\n",
        "\n",
        "    return False\n",
        "\n",
        "N = 4\n",
        "tablero = [[0] * N for _ in range(N)]\n",
        "\n",
        "if resolverNReinas(tablero, 0, N):\n",
        "    for fila in tablero:\n",
        "        print(fila)\n",
        "else:\n",
        "    print(\"No hay solución\")"
      ],
      "execution_count": 4,
      "outputs": [
        {
          "output_type": "stream",
          "name": "stdout",
          "text": [
            "[0, 1, 0, 0]\n",
            "[0, 0, 0, 1]\n",
            "[1, 0, 0, 0]\n",
            "[0, 0, 1, 0]\n"
          ]
        }
      ]
    },
    {
      "metadata": {
        "trusted": false,
        "id": "LajmZ50UHnjQ"
      },
      "cell_type": "code",
      "source": [],
      "execution_count": null,
      "outputs": []
    }
  ],
  "metadata": {
    "colab": {
      "provenance": [],
      "toc_visible": true
    },
    "kernelspec": {
      "name": "python3",
      "display_name": "Python 3",
      "language": "python"
    },
    "language_info": {
      "name": "python",
      "version": "3.10.4",
      "mimetype": "text/x-python",
      "codemirror_mode": {
        "name": "ipython",
        "version": 3
      },
      "pygments_lexer": "ipython3",
      "nbconvert_exporter": "python",
      "file_extension": ".py"
    }
  },
  "nbformat": 4,
  "nbformat_minor": 0
}