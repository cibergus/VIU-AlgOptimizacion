{
 "cells": [
  {
   "cell_type": "code",
   "execution_count": 1,
   "metadata": {
    "execution": {
     "iopub.execute_input": "2024-02-01T18:19:44.933616Z",
     "iopub.status.busy": "2024-02-01T18:19:44.932957Z",
     "iopub.status.idle": "2024-02-01T18:19:49.839257Z",
     "shell.execute_reply": "2024-02-01T18:19:49.838323Z",
     "shell.execute_reply.started": "2024-02-01T18:19:44.933558Z"
    },
    "id": "Ku6PrPEl9V4u"
   },
   "outputs": [
    {
     "name": "stdout",
     "output_type": "stream",
     "text": [
      "Requirement already satisfied: requests in /Users/cibergus/opt/miniconda3/envs/VIU-AlgOptimizacion/lib/python3.11/site-packages (2.31.0)\n",
      "Requirement already satisfied: charset-normalizer<4,>=2 in /Users/cibergus/opt/miniconda3/envs/VIU-AlgOptimizacion/lib/python3.11/site-packages (from requests) (2.0.4)\n",
      "Requirement already satisfied: idna<4,>=2.5 in /Users/cibergus/opt/miniconda3/envs/VIU-AlgOptimizacion/lib/python3.11/site-packages (from requests) (3.4)\n",
      "Requirement already satisfied: urllib3<3,>=1.21.1 in /Users/cibergus/opt/miniconda3/envs/VIU-AlgOptimizacion/lib/python3.11/site-packages (from requests) (1.26.18)\n",
      "Requirement already satisfied: certifi>=2017.4.17 in /Users/cibergus/opt/miniconda3/envs/VIU-AlgOptimizacion/lib/python3.11/site-packages (from requests) (2023.11.17)\n",
      "Requirement already satisfied: tsplib95 in /Users/cibergus/opt/miniconda3/envs/VIU-AlgOptimizacion/lib/python3.11/site-packages (0.7.1)\n",
      "Requirement already satisfied: Click>=6.0 in /Users/cibergus/opt/miniconda3/envs/VIU-AlgOptimizacion/lib/python3.11/site-packages (from tsplib95) (8.1.7)\n",
      "Requirement already satisfied: Deprecated~=1.2.9 in /Users/cibergus/opt/miniconda3/envs/VIU-AlgOptimizacion/lib/python3.11/site-packages (from tsplib95) (1.2.14)\n",
      "Requirement already satisfied: networkx~=2.1 in /Users/cibergus/opt/miniconda3/envs/VIU-AlgOptimizacion/lib/python3.11/site-packages (from tsplib95) (2.8.8)\n",
      "Requirement already satisfied: tabulate~=0.8.7 in /Users/cibergus/opt/miniconda3/envs/VIU-AlgOptimizacion/lib/python3.11/site-packages (from tsplib95) (0.8.10)\n",
      "Requirement already satisfied: wrapt<2,>=1.10 in /Users/cibergus/opt/miniconda3/envs/VIU-AlgOptimizacion/lib/python3.11/site-packages (from Deprecated~=1.2.9->tsplib95) (1.16.0)\n"
     ]
    }
   ],
   "source": [
    "#Modulo de llamadas http para descargar ficheros\n",
    "!pip install requests\n",
    "\n",
    "#Libreria del problema TSP: http://elib.zib.de/pub/mp-testdata/tsp/tsplib/tsplib.html\n",
    "!pip install tsplib95"
   ]
  },
  {
   "cell_type": "code",
   "execution_count": 2,
   "metadata": {
    "execution": {
     "iopub.execute_input": "2024-02-01T18:19:49.841507Z",
     "iopub.status.busy": "2024-02-01T18:19:49.841121Z",
     "iopub.status.idle": "2024-02-01T18:19:50.123342Z",
     "shell.execute_reply": "2024-02-01T18:19:50.122614Z",
     "shell.execute_reply.started": "2024-02-01T18:19:49.841474Z"
    },
    "id": "lwwwi-Rr9haG"
   },
   "outputs": [],
   "source": [
    "import tsplib95\n",
    "import random\n",
    "from math import e\n",
    "import urllib.request"
   ]
  },
  {
   "cell_type": "code",
   "execution_count": 3,
   "metadata": {
    "execution": {
     "iopub.execute_input": "2024-02-01T18:19:50.124995Z",
     "iopub.status.busy": "2024-02-01T18:19:50.124696Z",
     "iopub.status.idle": "2024-02-01T18:22:02.196393Z",
     "shell.execute_reply": "2024-02-01T18:22:02.195456Z",
     "shell.execute_reply.started": "2024-02-01T18:19:50.124975Z"
    },
    "id": "NpUqeOgl9yiK"
   },
   "outputs": [
    {
     "name": "stdout",
     "output_type": "stream",
     "text": [
      "swiss42.tsp already exists -- do you wish to overwrite (y or n)? ^C\n"
     ]
    }
   ],
   "source": [
    "#DATOS DEL PROBLEMA\n",
    "file = \"swiss42.tsp\"\n",
    "ruta = \"http://comopt.ifi.uni-heidelberg.de/software/TSPLIB95/tsp/swiss42.tsp.gz\"\n",
    "urllib.request.urlretrieve(ruta, file + '.gz')\n",
    "!gzip -d swiss42.tsp.gz     #Descomprimir el fichero de datos\n",
    "problem = tsplib95.load(file)\n",
    "\n",
    "#Nodos\n",
    "Nodos = list(problem.get_nodes())\n",
    "\n",
    "#Devuelve la distancia entre dos nodos\n",
    "def distancia(a,b, problem):\n",
    "  return problem.get_weight(a,b)\n",
    "\n",
    "#Devuelve la distancia total de una trayectoria/solucion(lista de nodos)\n",
    "def distancia_total(solucion, problem):\n",
    "  distancia_total = 0\n",
    "  for i in range(len(solucion)-1):\n",
    "    distancia_total += distancia(solucion[i] ,solucion[i+1] ,  problem)\n",
    "  return distancia_total + distancia(solucion[len(solucion)-1] ,solucion[0], problem)\n"
   ]
  },
  {
   "cell_type": "markdown",
   "metadata": {
    "id": "hil3PCXB9iWf"
   },
   "source": [
    "##Algoritmo de colonia de hormigas\n",
    "\n",
    "La función Add_Nodo selecciona al azar un nodo con probabilidad uniforme.\n",
    "Para ser mas eficiente debería seleccionar el próximo nodo siguiendo la probabilidad correspondiente a la ecuación:\n",
    "\n",
    "$p^k_{ij}(t) = \\frac{[\\tau_{ij}(t)]^\\alpha[\\nu_{ij}]^\\beta}{\\sum_{l\\in J^k_i} [\\tau_{il}(t)]^\\alpha[\\nu_{il}]^\\beta}$, si $j \\in J^k_i$\n",
    "\n",
    "$p^k_{ij}(t) = 0$, si $j \\notin J^k_i$"
   ]
  },
  {
   "cell_type": "code",
   "execution_count": 4,
   "metadata": {
    "execution": {
     "iopub.execute_input": "2024-02-01T18:22:02.200090Z",
     "iopub.status.busy": "2024-02-01T18:22:02.198942Z",
     "iopub.status.idle": "2024-02-01T18:22:02.209183Z",
     "shell.execute_reply": "2024-02-01T18:22:02.208157Z",
     "shell.execute_reply.started": "2024-02-01T18:22:02.199643Z"
    },
    "id": "BzzL8A_w-BeZ"
   },
   "outputs": [],
   "source": [
    "def Add_Nodo(problem, H ,T ) :\n",
    "  #Mejora:Establecer una funcion de probabilidad para\n",
    "  # añadir un nuevo nodo dependiendo de los nodos mas cercanos y de las feromonas depositadas\n",
    "  Nodos = list(problem.get_nodes())\n",
    "  return random.choice(   list(set(range(1,len(Nodos))) - set(H) )  )\n",
    "\n",
    "\n",
    "def Incrementa_Feromona(problem, T, H ) :\n",
    "  #Incrementa segun la calidad de la solución. Añadir una cantidad inversamente proporcional a la distancia total\n",
    "  for i in range(len(H)-1):\n",
    "    T[H[i]][H[i+1]] += 1000/distancia_total(H, problem)\n",
    "  return T\n",
    "\n",
    "def Evaporar_Feromonas(T ):\n",
    "  #Evapora 0.3 el valor de la feromona, sin que baje de 1\n",
    "  #Mejora:Podemos elegir diferentes funciones de evaporación dependiendo de la cantidad actual y de la suma total de feromonas depositadas,...\n",
    "  T = [[ max(T[i][j] - 0.3 , 1) for i in range(len(Nodos)) ] for j in range(len(Nodos))]\n",
    "  return T"
   ]
  },
  {
   "cell_type": "code",
   "execution_count": 5,
   "metadata": {
    "colab": {
     "base_uri": "https://localhost:8080/"
    },
    "execution": {
     "iopub.execute_input": "2024-02-01T18:22:02.211744Z",
     "iopub.status.busy": "2024-02-01T18:22:02.211355Z",
     "iopub.status.idle": "2024-02-01T18:22:08.210787Z",
     "shell.execute_reply": "2024-02-01T18:22:08.210115Z",
     "shell.execute_reply.started": "2024-02-01T18:22:02.211719Z"
    },
    "id": "8H08lRY7-Emq",
    "outputId": "71c15d2d-a03a-4ee0-a00a-2db946745e15"
   },
   "outputs": [
    {
     "name": "stdout",
     "output_type": "stream",
     "text": [
      "[0, 12, 32, 35, 34, 25, 1, 14, 16, 28, 19, 3, 26, 20, 37, 15, 31, 22, 38, 9, 4, 2, 36, 6, 29, 18, 30, 39, 5, 13, 11, 41, 10, 27, 21, 33, 17, 7, 8, 24, 40, 23]\n",
      "3949\n"
     ]
    }
   ],
   "source": [
    "def hormigas(problem, N) :\n",
    "  #problem = datos del problema\n",
    "  #N = Número de agentes(hormigas)\n",
    "\n",
    "  #Nodos\n",
    "  Nodos = list(problem.get_nodes())\n",
    "  #Aristas\n",
    "  Aristas = list(problem.get_edges())\n",
    "\n",
    "  #Inicializa las aristas con una cantidad inicial de feromonas:1\n",
    "  #Mejora: inicializar con valores diferentes dependiendo diferentes criterios\n",
    "  T = [[ 1 for _ in range(len(Nodos)) ] for _ in range(len(Nodos))]\n",
    "\n",
    "  #Se generan los agentes(hormigas) que serán estructuras de caminos desde 0\n",
    "  Hormiga = [[0] for _ in range(N)]\n",
    "\n",
    "  #Recorre cada agente construyendo la solución\n",
    "  for h in range(N) :\n",
    "    #Para cada agente se construye un camino\n",
    "    for i in range(len(Nodos)-1) :\n",
    "\n",
    "      #Elige el siguiente nodo\n",
    "      Nuevo_Nodo = Add_Nodo(problem, Hormiga[h] ,T )\n",
    "      Hormiga[h].append(Nuevo_Nodo)\n",
    "\n",
    "    #Incrementa feromonas en esa arista\n",
    "    T = Incrementa_Feromona(problem, T, Hormiga[h] )\n",
    "    #print(\"Feromonas(1)\", T)\n",
    "\n",
    "    #Evapora Feromonas\n",
    "    T = Evaporar_Feromonas(T)\n",
    "    #print(\"Feromonas(2)\", T)\n",
    "\n",
    "    #Seleccionamos el mejor agente\n",
    "  mejor_solucion = []\n",
    "  mejor_distancia = 10e100\n",
    "  for h in range(N) :\n",
    "    distancia_actual = distancia_total(Hormiga[h], problem)\n",
    "    if distancia_actual < mejor_distancia:\n",
    "      mejor_solucion = Hormiga[h]\n",
    "      mejor_distancia =distancia_actual\n",
    "\n",
    "\n",
    "  print(mejor_solucion)\n",
    "  print(mejor_distancia)\n",
    "\n",
    "\n",
    "hormigas(problem, 1000)"
   ]
  }
 ],
 "metadata": {
  "colab": {
   "provenance": []
  },
  "kernelspec": {
   "display_name": "Python 3 (ipykernel)",
   "language": "python",
   "name": "python3"
  },
  "language_info": {
   "codemirror_mode": {
    "name": "ipython",
    "version": 3
   },
   "file_extension": ".py",
   "mimetype": "text/x-python",
   "name": "python",
   "nbconvert_exporter": "python",
   "pygments_lexer": "ipython3",
   "version": "3.11.5"
  }
 },
 "nbformat": 4,
 "nbformat_minor": 4
}
