{
 "cells": [
  {
   "cell_type": "markdown",
   "metadata": {},
   "source": [
    "# Algoritmos de optimización - Reto 3"
   ]
  },
  {
   "cell_type": "markdown",
   "metadata": {},
   "source": [
    "Nombre: Augusto Javier Ibañez Garcia  \n",
    "Github: https://github.com/cibergus/VIU-AlgOptimizacion  \n",
    "\n",
    "Elección de algoritmo: BÚSQUEDA TABÚ\n",
    "\n",
    "Índice:  \n",
    "\n",
    "  - FUNCIONES Y ALGORITMOS BASE   \n",
    "      - Carga de librerias\n",
    "      - Carga de los datos del problema\n",
    "      - Funcionas basicas\n",
    "      - BÚSQUEDA ALEATORIA\n",
    "      - BÚSQUEDA LOCAL\n",
    "      - SIMULATED ANNEALING\n",
    "        \n",
    "  - SOLUCIÓN PROPUESTA: BÚSQUEDA TABÚ\n",
    "      - Búsqueda Tabú - versión inicial\n",
    "      - Búsqueda Tabú - versión mejorada\n",
    "   \n",
    "  - RESUMEN Y CONCLUSIONES"
   ]
  },
  {
   "cell_type": "markdown",
   "metadata": {},
   "source": [
    "# FUNCIONES Y ALGORITMOS BASE"
   ]
  },
  {
   "cell_type": "markdown",
   "metadata": {
    "id": "m-gbxt9BFfdN"
   },
   "source": [
    "## Carga de librerias"
   ]
  },
  {
   "cell_type": "code",
   "execution_count": 1,
   "metadata": {
    "execution": {
     "iopub.execute_input": "2024-03-01T20:02:04.879700Z",
     "iopub.status.busy": "2024-03-01T20:02:04.879400Z",
     "iopub.status.idle": "2024-03-01T20:02:04.885907Z",
     "shell.execute_reply": "2024-03-01T20:02:04.885143Z",
     "shell.execute_reply.started": "2024-03-01T20:02:04.879677Z"
    },
    "id": "qP-Y3Gkfc4vn"
   },
   "outputs": [],
   "source": [
    "# INSTALLS\n",
    "\n",
    "# !pip install requests    #Hacer llamadas http a paginas de la red\n",
    "# !pip install tsplib95    #Modulo para las instancias del problema del TSP"
   ]
  },
  {
   "cell_type": "code",
   "execution_count": 2,
   "metadata": {
    "execution": {
     "iopub.execute_input": "2024-03-01T20:02:04.887254Z",
     "iopub.status.busy": "2024-03-01T20:02:04.886870Z",
     "iopub.status.idle": "2024-03-01T20:02:05.005639Z",
     "shell.execute_reply": "2024-03-01T20:02:05.004670Z",
     "shell.execute_reply.started": "2024-03-01T20:02:04.887232Z"
    }
   },
   "outputs": [],
   "source": [
    "# IMPORTS\n",
    "\n",
    "import urllib.request #Hacer llamadas http a paginas de la red\n",
    "import tsplib95       #Modulo para las instancias del problema del TSP\n",
    "import math           #Modulo de funciones matematicas. Se usa para exp\n",
    "import random         #Para generar valores aleatorios"
   ]
  },
  {
   "cell_type": "markdown",
   "metadata": {
    "id": "nHRiJhTnFmuV"
   },
   "source": [
    "## Carga de los datos del problema"
   ]
  },
  {
   "cell_type": "code",
   "execution_count": 3,
   "metadata": {
    "execution": {
     "iopub.execute_input": "2024-03-01T20:02:05.007740Z",
     "iopub.status.busy": "2024-03-01T20:02:05.007336Z",
     "iopub.status.idle": "2024-03-01T20:02:05.259456Z",
     "shell.execute_reply": "2024-03-01T20:02:05.257872Z",
     "shell.execute_reply.started": "2024-03-01T20:02:05.007720Z"
    },
    "id": "mnA47nhtdKOc"
   },
   "outputs": [],
   "source": [
    "#http://elib.zib.de/pub/mp-testdata/tsp/tsplib/\n",
    "#Documentacion :\n",
    "  # http://comopt.ifi.uni-heidelberg.de/software/TSPLIB95/tsp95.pdf\n",
    "  # https://tsplib95.readthedocs.io/en/stable/pages/usage.html\n",
    "  # https://tsplib95.readthedocs.io/en/v0.6.1/modules.html\n",
    "  # https://pypi.org/project/tsplib95/\n",
    "\n",
    "#Descargamos el fichero de datos(Matriz de distancias)\n",
    "file1 = \"datasets/swiss42.tsp\"\n",
    "ruta1 = \"http://comopt.ifi.uni-heidelberg.de/software/TSPLIB95/tsp/swiss42.tsp.gz\"\n",
    "urllib.request.urlretrieve(ruta1, file1 + '.gz')\n",
    "!gzip -df datasets/swiss42.tsp.gz     #Descomprimir el fichero de datos\n",
    "\n",
    "#Coordenadas 51-city problem (Christofides/Eilon)\n",
    "#file2 = \"datasets/eil51.tsp\" \n",
    "#ruta3 = \"http://comopt.ifi.uni-heidelberg.de/software/TSPLIB95/tsp/eil51.tsp.gz\"\n",
    "#urllib.request.urlretrieve(ruta3, file)\n",
    "#!gzip -df eil51.tsp.gz\n",
    "\n",
    "#Coordenadas - 48 capitals of the US (Padberg/Rinaldi)\n",
    "#file3 = \"datasets/att48.tsp\"\n",
    "#ruta3 = \"http://comopt.ifi.uni-heidelberg.de/software/TSPLIB95/tsp/att48.tsp.gz\"\n",
    "#urllib.request.urlretrieve(ruta3, file)\n",
    "#!gzip -df att48.tsp.gz"
   ]
  },
  {
   "cell_type": "code",
   "execution_count": 4,
   "metadata": {
    "execution": {
     "iopub.execute_input": "2024-03-01T20:02:05.264475Z",
     "iopub.status.busy": "2024-03-01T20:02:05.263942Z",
     "iopub.status.idle": "2024-03-01T20:02:05.272249Z",
     "shell.execute_reply": "2024-03-01T20:02:05.271411Z",
     "shell.execute_reply.started": "2024-03-01T20:02:05.264442Z"
    },
    "id": "RIXYkDWcfmwd"
   },
   "outputs": [],
   "source": [
    "#Carga de datos y generación de objeto problem\n",
    "###############################################################################\n",
    "problem = tsplib95.load(file1)\n",
    "\n",
    "#Nodos\n",
    "Nodos = list(problem.get_nodes())\n",
    "\n",
    "#Aristas\n",
    "Aristas = list(problem.get_edges())"
   ]
  },
  {
   "attachments": {},
   "cell_type": "markdown",
   "metadata": {},
   "source": [
    "![](foto_dataset.jpg)"
   ]
  },
  {
   "cell_type": "code",
   "execution_count": 5,
   "metadata": {
    "colab": {
     "base_uri": "https://localhost:8080/"
    },
    "execution": {
     "iopub.execute_input": "2024-03-01T20:02:05.277370Z",
     "iopub.status.busy": "2024-03-01T20:02:05.276876Z",
     "iopub.status.idle": "2024-03-01T20:02:05.287321Z",
     "shell.execute_reply": "2024-03-01T20:02:05.286373Z",
     "shell.execute_reply.started": "2024-03-01T20:02:05.277321Z"
    },
    "id": "a7bTofSnn_Jt",
    "outputId": "bb394605-2755-4833-eeeb-699f374870c3"
   },
   "outputs": [
    {
     "data": {
      "text/plain": [
       "15"
      ]
     },
     "execution_count": 5,
     "metadata": {},
     "output_type": "execute_result"
    }
   ],
   "source": [
    "#Probamos algunas funciones del objeto problem\n",
    "\n",
    "#Distancia entre nodos\n",
    "problem.get_weight(0, 1)\n",
    "\n",
    "#Todas las funciones\n",
    "#Documentación: https://tsplib95.readthedocs.io/en/v0.6.1/modules.html\n",
    "\n",
    "#dir(problem)"
   ]
  },
  {
   "cell_type": "markdown",
   "metadata": {
    "id": "BpwtaRQIFYvO"
   },
   "source": [
    "## Funciones básicas\n"
   ]
  },
  {
   "cell_type": "code",
   "execution_count": 6,
   "metadata": {
    "execution": {
     "iopub.execute_input": "2024-03-01T20:02:05.289482Z",
     "iopub.status.busy": "2024-03-01T20:02:05.288974Z",
     "iopub.status.idle": "2024-03-01T20:02:05.296061Z",
     "shell.execute_reply": "2024-03-01T20:02:05.295097Z",
     "shell.execute_reply.started": "2024-03-01T20:02:05.289457Z"
    },
    "id": "tzrkaBS3gmmz"
   },
   "outputs": [],
   "source": [
    "#Funcionas basicas\n",
    "###############################################################################\n",
    "\n",
    "#Se genera una solucion aleatoria con comienzo en en el nodo 0\n",
    "def crear_solucion(Nodos):\n",
    "  solucion = [Nodos[0]]\n",
    "  for n in Nodos[1:]:\n",
    "    solucion = solucion + [random.choice(list(set(Nodos) - set({Nodos[0]}) - set(solucion)))]\n",
    "  return solucion\n",
    "\n",
    "#Devuelve la distancia entre dos nodos\n",
    "def distancia(a, b, problem):\n",
    "  return problem.get_weight(a,b)\n",
    "\n",
    "#Devuelve la distancia total de una trayectoria/solucion\n",
    "def distancia_total(solucion, problem):\n",
    "  distancia_total = 0\n",
    "  for i in range(len(solucion)-1):\n",
    "    distancia_total += distancia(solucion[i] ,solucion[i+1] ,  problem)\n",
    "  return distancia_total + distancia(solucion[len(solucion)-1] ,solucion[0], problem)\n",
    "    "
   ]
  },
  {
   "cell_type": "markdown",
   "metadata": {
    "id": "zfwRoUPDYVTr"
   },
   "source": [
    "## BÚSQUEDA ALEATORIA"
   ]
  },
  {
   "cell_type": "code",
   "execution_count": 7,
   "metadata": {
    "colab": {
     "base_uri": "https://localhost:8080/"
    },
    "execution": {
     "iopub.execute_input": "2024-03-01T20:02:05.298178Z",
     "iopub.status.busy": "2024-03-01T20:02:05.297458Z",
     "iopub.status.idle": "2024-03-01T20:02:05.304873Z",
     "shell.execute_reply": "2024-03-01T20:02:05.303573Z",
     "shell.execute_reply.started": "2024-03-01T20:02:05.298142Z"
    },
    "id": "U7FEJ5OHG2vl",
    "outputId": "8773e487-9d85-47d7-e86f-e10935d12ee3"
   },
   "outputs": [],
   "source": [
    "###############################################################################\n",
    "# BUSQUEDA ALEATORIA\n",
    "###############################################################################\n",
    "\n",
    "def busqueda_aleatoria(problem, numero_iteraciones):\n",
    "  Nodos = list(problem.get_nodes())\n",
    "\n",
    "  mejor_solucion = []\n",
    "  mejor_distancia = float('inf')                    #Inicializamos con un valor alto\n",
    "\n",
    "  for i in range(numero_iteraciones):                                #Criterio de parada: repetir N veces pero podemos incluir otros\n",
    "    solucion = crear_solucion(Nodos)                #Genera una solucion aleatoria\n",
    "    distancia = distancia_total(solucion, problem)  #Calcula el valor objetivo(distancia total)\n",
    "    if distancia < mejor_distancia:                 #Compara con la mejor obtenida hasta ahora\n",
    "      mejor_solucion_busq_aleatoria = solucion\n",
    "      mejor_distancia_busq_aleatoria = distancia\n",
    "\n",
    "  #print(\"Mejor solución:\" , mejor_solucion_busq_aleatoria)\n",
    "  #print(\"Distancia     :\" , mejor_distancia_busq_aleatoria)\n",
    "  return mejor_solucion_busq_aleatoria, mejor_distancia_busq_aleatoria\n",
    "    "
   ]
  },
  {
   "cell_type": "code",
   "execution_count": 8,
   "metadata": {
    "execution": {
     "iopub.execute_input": "2024-03-01T20:02:05.307282Z",
     "iopub.status.busy": "2024-03-01T20:02:05.306654Z",
     "iopub.status.idle": "2024-03-01T20:02:07.625023Z",
     "shell.execute_reply": "2024-03-01T20:02:07.624081Z",
     "shell.execute_reply.started": "2024-03-01T20:02:05.307252Z"
    }
   },
   "outputs": [
    {
     "name": "stdout",
     "output_type": "stream",
     "text": [
      "Búsqueda aleatoria\n",
      "Mejor solución: [0, 17, 28, 37, 27, 19, 8, 22, 5, 29, 21, 40, 3, 31, 25, 12, 11, 10, 16, 2, 30, 41, 33, 18, 20, 14, 15, 38, 7, 32, 23, 35, 9, 1, 4, 26, 24, 36, 34, 39, 13, 6]\n",
      "Distancia     : 4941\n",
      "\n",
      "CPU times: user 2.28 s, sys: 15 ms, total: 2.3 s\n",
      "Wall time: 2.31 s\n"
     ]
    }
   ],
   "source": [
    "%%time\n",
    "# Ejemplo de uso: Búsqueda aleatoria con 10.000 iteraciones\n",
    "solucion, distancia_busq_aleatoria = busqueda_aleatoria(problem, 10000)\n",
    "solucion_aleatoria = solucion\n",
    "print(\"Búsqueda aleatoria\")\n",
    "print(\"Mejor solución:\" , solucion)\n",
    "print(\"Distancia     :\" , distancia_busq_aleatoria)\n",
    "print()"
   ]
  },
  {
   "cell_type": "markdown",
   "metadata": {
    "id": "gxyEjqm8YZIk"
   },
   "source": [
    "## BÚSQUEDA LOCAL"
   ]
  },
  {
   "cell_type": "code",
   "execution_count": 9,
   "metadata": {
    "colab": {
     "base_uri": "https://localhost:8080/"
    },
    "execution": {
     "iopub.execute_input": "2024-03-01T20:02:07.626454Z",
     "iopub.status.busy": "2024-03-01T20:02:07.626089Z",
     "iopub.status.idle": "2024-03-01T20:02:07.631316Z",
     "shell.execute_reply": "2024-03-01T20:02:07.630756Z",
     "shell.execute_reply.started": "2024-03-01T20:02:07.626435Z"
    },
    "id": "sOo-N3yIX7bp",
    "outputId": "8b28bc08-ed59-4783-8420-48a1de31bb20"
   },
   "outputs": [],
   "source": [
    "###############################################################################\n",
    "# BUSQUEDA LOCAL\n",
    "###############################################################################\n",
    "def genera_vecina(solucion):\n",
    "  #Generador de soluciones vecinas: 2-opt (intercambiar 2 nodos) Si hay N nodos se generan (N-1)x(N-2)/2 soluciones\n",
    "  #Se puede modificar para aplicar otros generadores distintos que 2-opt\n",
    "  #print(solucion)\n",
    "  mejor_solucion = []\n",
    "  mejor_distancia = 10e100\n",
    "  for i in range(1,len(solucion)-1):          #Recorremos todos los nodos en bucle doble para evaluar todos los intercambios 2-opt\n",
    "    for j in range(i+1, len(solucion)):\n",
    "      #Se genera una nueva solución intercambiando los dos nodos i,j:\n",
    "      #  (usamos el operador + que para listas en python las concatena) : ej.: [1,2] + [3] = [1,2,3]\n",
    "      vecina = solucion[:i] + [solucion[j]] + solucion[i+1:j] + [solucion[i]] + solucion[j+1:]\n",
    "      #Se evalua la nueva solución ...\n",
    "      distancia_vecina = distancia_total(vecina, problem)\n",
    "      #... para guardarla si mejora las anteriores\n",
    "      if distancia_vecina <= mejor_distancia:\n",
    "        mejor_distancia = distancia_vecina\n",
    "        mejor_solucion = vecina\n",
    "  return mejor_solucion\n"
   ]
  },
  {
   "cell_type": "code",
   "execution_count": 10,
   "metadata": {
    "execution": {
     "iopub.execute_input": "2024-03-01T20:02:07.632510Z",
     "iopub.status.busy": "2024-03-01T20:02:07.632133Z",
     "iopub.status.idle": "2024-03-01T20:02:07.711577Z",
     "shell.execute_reply": "2024-03-01T20:02:07.710673Z",
     "shell.execute_reply.started": "2024-03-01T20:02:07.632491Z"
    }
   },
   "outputs": [
    {
     "name": "stdout",
     "output_type": "stream",
     "text": [
      "Distancia Solucion Inicial    : 4941\n",
      "Distancia Mejor Solucion Local: 4347\n",
      "Solucion Local: [0, 17, 28, 37, 27, 19, 8, 22, 5, 29, 21, 40, 3, 31, 25, 12, 11, 10, 16, 2, 30, 41, 33, 18, 20, 14, 15, 38, 7, 32, 23, 24, 9, 1, 4, 26, 35, 36, 34, 39, 13, 6]\n"
     ]
    }
   ],
   "source": [
    "#solucion = [1, 47, 13, 41, 40, 19, 42, 44, 37, 5, 22, 28, 3, 2, 29, 21, 50, 34, 30, 9, 16, 11, 38, 49, 10, 39, 33, 45, 15, 24, 43, 26, 31, 36, 35, 20, 8, 7, 23, 48, 27, 12, 17, 4, 18, 25, 14, 6, 51, 46, 32]\n",
    "print(\"Distancia Solucion Inicial    :\", distancia_total(solucion, problem))\n",
    "\n",
    "nueva_solucion = genera_vecina(solucion)\n",
    "distancia_genera_vecina = distancia_total(nueva_solucion, problem)\n",
    "print(\"Distancia Mejor Solucion Local:\", distancia_genera_vecina)\n",
    "print(\"Solucion Local:\", nueva_solucion)\n"
   ]
  },
  {
   "cell_type": "code",
   "execution_count": 11,
   "metadata": {
    "colab": {
     "base_uri": "https://localhost:8080/"
    },
    "execution": {
     "iopub.execute_input": "2024-03-01T20:02:07.712852Z",
     "iopub.status.busy": "2024-03-01T20:02:07.712436Z",
     "iopub.status.idle": "2024-03-01T20:02:07.717658Z",
     "shell.execute_reply": "2024-03-01T20:02:07.716903Z",
     "shell.execute_reply.started": "2024-03-01T20:02:07.712824Z"
    },
    "id": "2DKvldWcYOU9",
    "outputId": "d723ce0b-b777-4ed4-ecd0-4271ded92451"
   },
   "outputs": [],
   "source": [
    "#Busqueda Local:\n",
    "#  - Sobre el operador de vecindad 2-opt(funcion genera_vecina)\n",
    "#  - Sin criterio de parada, se para cuando no es posible mejorar.\n",
    "def busqueda_local(problem):\n",
    "  mejor_solucion = []\n",
    "  #Generar una solucion inicial de referencia(aleatoria)\n",
    "  solucion_referencia = crear_solucion(Nodos)\n",
    "  mejor_distancia = distancia_total(solucion_referencia, problem)\n",
    "  iteracion=0             #Un contador para saber las iteraciones que hacemos\n",
    "  while(1):\n",
    "    iteracion +=1         #Incrementamos el contador\n",
    "    #Obtenemos la mejor vecina ...\n",
    "    vecina = genera_vecina(solucion_referencia)\n",
    "    #... y la evaluamos para ver si mejoramos respecto a lo encontrado hasta el momento\n",
    "    distancia_vecina = distancia_total(vecina, problem)\n",
    "    #Si no mejoramos hay que terminar. Hemos llegado a un minimo local(según nuestro operador de vencindad 2-opt)\n",
    "    if distancia_vecina < mejor_distancia:\n",
    "      mejor_solucion = vecina                   #Guarda la mejor solución encontrada\n",
    "      mejor_distancia = distancia_vecina\n",
    "    else:\n",
    "      print(\"En la iteracion \", iteracion, \", la mejor solución encontrada es:\\n\" , mejor_solucion)\n",
    "      print(\"Distancia     :\" , mejor_distancia)\n",
    "      return mejor_solucion, mejor_distancia\n",
    "    solucion_referencia = vecina\n"
   ]
  },
  {
   "cell_type": "code",
   "execution_count": 12,
   "metadata": {
    "execution": {
     "iopub.execute_input": "2024-03-01T20:02:07.723391Z",
     "iopub.status.busy": "2024-03-01T20:02:07.722997Z",
     "iopub.status.idle": "2024-03-01T20:02:09.972191Z",
     "shell.execute_reply": "2024-03-01T20:02:09.971416Z",
     "shell.execute_reply.started": "2024-03-01T20:02:07.723369Z"
    }
   },
   "outputs": [
    {
     "name": "stdout",
     "output_type": "stream",
     "text": [
      "En la iteracion  31 , la mejor solución encontrada es:\n",
      " [0, 35, 36, 26, 12, 11, 18, 5, 16, 14, 7, 38, 22, 24, 40, 41, 23, 21, 39, 9, 8, 28, 3, 1, 20, 33, 34, 32, 30, 29, 10, 25, 13, 19, 15, 37, 17, 31, 6, 4, 2, 27]\n",
      "Distancia     : 2040\n"
     ]
    }
   ],
   "source": [
    "#sol = busqueda_local(problem)\n",
    "solucion_busq_local_ruta, solucion_busq_local_distancia = busqueda_local(problem)"
   ]
  },
  {
   "cell_type": "markdown",
   "metadata": {
    "id": "iaHHKQeeYiDl"
   },
   "source": [
    "## SIMULATED ANNEALING\n"
   ]
  },
  {
   "cell_type": "code",
   "execution_count": 13,
   "metadata": {
    "execution": {
     "iopub.execute_input": "2024-03-01T20:02:09.974251Z",
     "iopub.status.busy": "2024-03-01T20:02:09.973609Z",
     "iopub.status.idle": "2024-03-01T20:02:09.979832Z",
     "shell.execute_reply": "2024-03-01T20:02:09.979219Z",
     "shell.execute_reply.started": "2024-03-01T20:02:09.974228Z"
    },
    "id": "pd1kIWnoYbu8"
   },
   "outputs": [],
   "source": [
    "###############################################################################\n",
    "# SIMULATED ANNEALING\n",
    "###############################################################################\n",
    "\n",
    "#Generador de 1 solucion vecina 2-opt 100% aleatoria (intercambiar 2 nodos)\n",
    "#Mejorable eligiendo otra forma de elegir una vecina.\n",
    "def genera_vecina_aleatorio(solucion):\n",
    "  #Se eligen dos nodos aleatoriamente\n",
    "  i,j = sorted(random.sample( range(1,len(solucion)) , 2))\n",
    "  #Devuelve una nueva solución pero intercambiando los dos nodos elegidos al azar\n",
    "  return solucion[:i] + [solucion[j]] + solucion[i+1:j] + [solucion[i]] + solucion[j+1:]\n",
    "\n",
    "#Funcion de probabilidad para aceptar peores soluciones\n",
    "def probabilidad(T,d):\n",
    "  if random.random() <  math.exp( -1*d / T)  :\n",
    "    return True\n",
    "  else:\n",
    "    return False\n",
    "\n",
    "#Funcion de descenso de temperatura\n",
    "def bajar_temperatura(T):\n",
    "  return T*0.99\n",
    "    "
   ]
  },
  {
   "cell_type": "code",
   "execution_count": 14,
   "metadata": {
    "colab": {
     "base_uri": "https://localhost:8080/"
    },
    "execution": {
     "iopub.execute_input": "2024-03-01T20:02:09.981172Z",
     "iopub.status.busy": "2024-03-01T20:02:09.980730Z",
     "iopub.status.idle": "2024-03-01T20:02:09.987227Z",
     "shell.execute_reply": "2024-03-01T20:02:09.986392Z",
     "shell.execute_reply.started": "2024-03-01T20:02:09.981126Z"
    },
    "id": "G0-O20XqYmk-",
    "outputId": "acb52d33-81cc-4d30-8727-4ed7ac35fe0e"
   },
   "outputs": [],
   "source": [
    "def recocido_simulado(problem, TEMPERATURA ):\n",
    "  solucion_referencia = crear_solucion(Nodos)\n",
    "  distancia_referencia = distancia_total(solucion_referencia, problem)\n",
    "  mejor_solucion = []             #x* del seudocodigo\n",
    "  mejor_distancia = 10e100        #F* del seudocodigo\n",
    "  N=0\n",
    "  while TEMPERATURA > .0001:\n",
    "    N+=1\n",
    "    #Genera una solución vecina\n",
    "    vecina =genera_vecina_aleatorio(solucion_referencia)\n",
    "    #Calcula su valor(distancia)\n",
    "    distancia_vecina = distancia_total(vecina, problem)\n",
    "    #Si es la mejor solución de todas se guarda(siempre!!!)\n",
    "    if distancia_vecina < mejor_distancia:\n",
    "        mejor_solucion = vecina\n",
    "        mejor_distancia = distancia_vecina\n",
    "    #Si la nueva vecina es mejor se cambia\n",
    "    #Si es peor se cambia según una probabilidad que depende de T y delta(distancia_referencia - distancia_vecina)\n",
    "    if distancia_vecina < distancia_referencia or probabilidad(TEMPERATURA, abs(distancia_referencia - distancia_vecina) ) :\n",
    "      #solucion_referencia = copy.deepcopy(vecina)\n",
    "      solucion_referencia = vecina\n",
    "      distancia_referencia = distancia_vecina\n",
    "    #Bajamos la temperatura\n",
    "    TEMPERATURA = bajar_temperatura(TEMPERATURA)\n",
    "\n",
    "  print(\"La mejor solución encontrada es \" , end=\"\")\n",
    "  print(mejor_solucion)\n",
    "  print(\"con una distancia total de \" , end=\"\")\n",
    "  print(mejor_distancia)\n",
    "  return mejor_solucion, mejor_distancia\n"
   ]
  },
  {
   "cell_type": "code",
   "execution_count": 15,
   "metadata": {
    "execution": {
     "iopub.execute_input": "2024-03-01T20:02:09.989578Z",
     "iopub.status.busy": "2024-03-01T20:02:09.989167Z",
     "iopub.status.idle": "2024-03-01T20:02:10.237433Z",
     "shell.execute_reply": "2024-03-01T20:02:10.236485Z",
     "shell.execute_reply.started": "2024-03-01T20:02:09.989557Z"
    }
   },
   "outputs": [
    {
     "name": "stdout",
     "output_type": "stream",
     "text": [
      "La mejor solución encontrada es [0, 12, 11, 23, 24, 40, 21, 39, 29, 30, 9, 8, 10, 25, 41, 22, 38, 34, 33, 7, 19, 13, 5, 6, 1, 35, 36, 37, 15, 16, 14, 17, 31, 20, 32, 28, 26, 18, 4, 3, 2, 27]\n",
      "con una distancia total de 1928\n"
     ]
    }
   ],
   "source": [
    "#sol = recocido_simulado(problem, 1000000)\n",
    "solucion_SA_ruta, solucion_SA_distancia = recocido_simulado(problem, 1000000)"
   ]
  },
  {
   "cell_type": "markdown",
   "metadata": {
    "execution": {
     "iopub.execute_input": "2024-03-01T18:55:06.384759Z",
     "iopub.status.busy": "2024-03-01T18:55:06.383199Z",
     "iopub.status.idle": "2024-03-01T18:55:06.401186Z",
     "shell.execute_reply": "2024-03-01T18:55:06.399243Z",
     "shell.execute_reply.started": "2024-03-01T18:55:06.384663Z"
    }
   },
   "source": [
    "# SOLUCIÓN PROPUESTA: BÚSQUEDA TABÚ"
   ]
  },
  {
   "cell_type": "markdown",
   "metadata": {},
   "source": [
    "## Búsqueda Tabú - versión inicial"
   ]
  },
  {
   "cell_type": "code",
   "execution_count": 16,
   "metadata": {
    "execution": {
     "iopub.execute_input": "2024-03-01T20:02:10.239142Z",
     "iopub.status.busy": "2024-03-01T20:02:10.238736Z",
     "iopub.status.idle": "2024-03-01T20:02:10.245150Z",
     "shell.execute_reply": "2024-03-01T20:02:10.244441Z",
     "shell.execute_reply.started": "2024-03-01T20:02:10.239119Z"
    }
   },
   "outputs": [],
   "source": [
    "def busqueda_tabu(problem, iteraciones, tamaño_tabu):\n",
    "    # Inicialización\n",
    "    solucion_referencia = crear_solucion(list(problem.get_nodes()))\n",
    "    mejor_solucion = list(solucion_referencia)\n",
    "    mejor_distancia = distancia_total(mejor_solucion, problem)\n",
    "    lista_tabu = []\n",
    "    for iteracion in range(iteraciones):\n",
    "        solucion_vecina = genera_vecina(solucion_referencia)\n",
    "        distancia_vecina = distancia_total(solucion_vecina, problem)\n",
    "        # Si la solución vecina es mejor que la mejor solución encontrada y no está en la lista tabú\n",
    "        if distancia_vecina < mejor_distancia and solucion_vecina not in lista_tabu:\n",
    "            mejor_solucion = solucion_vecina\n",
    "            mejor_distancia = distancia_vecina\n",
    "            solucion_referencia = solucion_vecina\n",
    "            # Actualizar la lista tabú\n",
    "            lista_tabu.append(solucion_vecina)\n",
    "            if len(lista_tabu) > tamaño_tabu:\n",
    "                lista_tabu.pop(0)\n",
    "    return mejor_solucion, mejor_distancia\n"
   ]
  },
  {
   "cell_type": "code",
   "execution_count": 17,
   "metadata": {
    "execution": {
     "iopub.execute_input": "2024-03-01T20:02:10.246599Z",
     "iopub.status.busy": "2024-03-01T20:02:10.246246Z",
     "iopub.status.idle": "2024-03-01T20:02:17.148145Z",
     "shell.execute_reply": "2024-03-01T20:02:17.147214Z",
     "shell.execute_reply.started": "2024-03-01T20:02:10.246576Z"
    }
   },
   "outputs": [
    {
     "name": "stdout",
     "output_type": "stream",
     "text": [
      "Distancia Búsqueda Tabú : 1841\n"
     ]
    }
   ],
   "source": [
    "# Ejemplo de llamada a la función\n",
    "solucion_busq_tabu_ruta, solucion_busq_tabu_distancia = busqueda_tabu(problem, 100, 10)\n",
    "print(\"Distancia Búsqueda Tabú :\", solucion_busq_tabu_distancia)"
   ]
  },
  {
   "cell_type": "markdown",
   "metadata": {},
   "source": [
    "## Búsqueda Tabú - versión mejorada"
   ]
  },
  {
   "cell_type": "code",
   "execution_count": 18,
   "metadata": {
    "execution": {
     "iopub.execute_input": "2024-03-01T20:02:17.149560Z",
     "iopub.status.busy": "2024-03-01T20:02:17.149102Z",
     "iopub.status.idle": "2024-03-01T20:02:17.156233Z",
     "shell.execute_reply": "2024-03-01T20:02:17.155320Z",
     "shell.execute_reply.started": "2024-03-01T20:02:17.149539Z"
    }
   },
   "outputs": [],
   "source": [
    "def busqueda_tabu_v2(problem, iteraciones, tamaño_tabu, temperatura):\n",
    "    solucion_referencia = crear_solucion(list(problem.get_nodes()))\n",
    "    mejor_solucion = list(solucion_referencia)\n",
    "    mejor_distancia = distancia_total(mejor_solucion, problem)\n",
    "    lista_tabu = []\n",
    "    for iteracion in range(iteraciones):\n",
    "        solucion_vecina = genera_vecina(solucion_referencia)\n",
    "        distancia_vecina = distancia_total(solucion_vecina, problem)\n",
    "        if distancia_vecina < mejor_distancia and solucion_vecina not in lista_tabu:\n",
    "            mejor_solucion = solucion_vecina\n",
    "            mejor_distancia = distancia_vecina\n",
    "            solucion_referencia = solucion_vecina\n",
    "            lista_tabu.append(solucion_vecina)\n",
    "            if len(lista_tabu) > tamaño_tabu:\n",
    "                lista_tabu.pop(0)\n",
    "        elif solucion_vecina not in lista_tabu:\n",
    "            delta = distancia_vecina - distancia_total(solucion_referencia, problem)\n",
    "            if delta < 0 or probabilidad(temperatura, abs(delta)):\n",
    "                solucion_referencia = solucion_vecina\n",
    "                distancia_referencia = distancia_vecina\n",
    "                lista_tabu.append(solucion_vecina)\n",
    "                if len(lista_tabu) > tamaño_tabu:\n",
    "                    lista_tabu.pop(0)\n",
    "                temperatura = bajar_temperatura(temperatura)\n",
    "    return mejor_solucion, mejor_distancia\n"
   ]
  },
  {
   "cell_type": "code",
   "execution_count": 19,
   "metadata": {
    "execution": {
     "iopub.execute_input": "2024-03-01T20:02:17.158055Z",
     "iopub.status.busy": "2024-03-01T20:02:17.157741Z",
     "iopub.status.idle": "2024-03-01T20:02:24.007871Z",
     "shell.execute_reply": "2024-03-01T20:02:24.007045Z",
     "shell.execute_reply.started": "2024-03-01T20:02:17.158035Z"
    }
   },
   "outputs": [
    {
     "name": "stdout",
     "output_type": "stream",
     "text": [
      "Distancia Búsqueda Tabú v.2: 1767\n"
     ]
    }
   ],
   "source": [
    "# Ejemplo de llamada a la función\n",
    "temperatura_inicial= 1000000\n",
    "solucion_busq_tabu_ruta_v2, solucion_busq_tabu_distancia_v2 = busqueda_tabu_v2(problem, 100, 10, temperatura_inicial)\n",
    "print(\"Distancia Búsqueda Tabú v.2:\", solucion_busq_tabu_distancia_v2)\n"
   ]
  },
  {
   "cell_type": "markdown",
   "metadata": {
    "execution": {
     "iopub.execute_input": "2024-03-01T19:52:55.769519Z",
     "iopub.status.busy": "2024-03-01T19:52:55.769095Z",
     "iopub.status.idle": "2024-03-01T19:52:55.773433Z",
     "shell.execute_reply": "2024-03-01T19:52:55.772738Z",
     "shell.execute_reply.started": "2024-03-01T19:52:55.769500Z"
    }
   },
   "source": [
    "# RESUMEN Y CONCLUSIONES"
   ]
  },
  {
   "cell_type": "code",
   "execution_count": 20,
   "metadata": {
    "execution": {
     "iopub.execute_input": "2024-03-01T20:02:24.009525Z",
     "iopub.status.busy": "2024-03-01T20:02:24.008988Z",
     "iopub.status.idle": "2024-03-01T20:02:24.014683Z",
     "shell.execute_reply": "2024-03-01T20:02:24.013749Z",
     "shell.execute_reply.started": "2024-03-01T20:02:24.009503Z"
    }
   },
   "outputs": [
    {
     "name": "stdout",
     "output_type": "stream",
     "text": [
      "DISTANCIAS:\n",
      "Solucion Aleatoria  : 4941\n",
      "Búsqueda Local      : 2040\n",
      "Simulated Annealing : 1928\n",
      "Búsqueda Tabú       : 1841\n",
      "Búsqueda Tabú v.2   : 1767\n"
     ]
    }
   ],
   "source": [
    "# Distancias\n",
    "print(\"DISTANCIAS:\")\n",
    "print(\"Solucion Aleatoria  :\", distancia_busq_aleatoria)\n",
    "print(\"Búsqueda Local      :\", solucion_busq_local_distancia)\n",
    "print(\"Simulated Annealing :\", solucion_SA_distancia)\n",
    "print(\"Búsqueda Tabú       :\", solucion_busq_tabu_distancia)\n",
    "print(\"Búsqueda Tabú v.2   :\", solucion_busq_tabu_distancia_v2)"
   ]
  },
  {
   "cell_type": "code",
   "execution_count": 21,
   "metadata": {
    "execution": {
     "iopub.execute_input": "2024-03-01T20:02:24.016169Z",
     "iopub.status.busy": "2024-03-01T20:02:24.015741Z",
     "iopub.status.idle": "2024-03-01T20:02:24.022381Z",
     "shell.execute_reply": "2024-03-01T20:02:24.021555Z",
     "shell.execute_reply.started": "2024-03-01T20:02:24.016152Z"
    }
   },
   "outputs": [
    {
     "name": "stdout",
     "output_type": "stream",
     "text": [
      "RUTAS:\n",
      "Solución Aleatoria  :\n",
      " [0, 17, 28, 37, 27, 19, 8, 22, 5, 29, 21, 40, 3, 31, 25, 12, 11, 10, 16, 2, 30, 41, 33, 18, 20, 14, 15, 38, 7, 32, 23, 35, 9, 1, 4, 26, 24, 36, 34, 39, 13, 6]\n",
      "Búsqueda Local      :\n",
      " [0, 35, 36, 26, 12, 11, 18, 5, 16, 14, 7, 38, 22, 24, 40, 41, 23, 21, 39, 9, 8, 28, 3, 1, 20, 33, 34, 32, 30, 29, 10, 25, 13, 19, 15, 37, 17, 31, 6, 4, 2, 27]\n",
      "Simulated Annealing :\n",
      " [0, 12, 11, 23, 24, 40, 21, 39, 29, 30, 9, 8, 10, 25, 41, 22, 38, 34, 33, 7, 19, 13, 5, 6, 1, 35, 36, 37, 15, 16, 14, 17, 31, 20, 32, 28, 26, 18, 4, 3, 2, 27]\n",
      "Búsqueda Tabú       :\n",
      " [0, 5, 19, 13, 26, 18, 23, 41, 25, 11, 12, 10, 8, 9, 21, 39, 30, 32, 35, 36, 17, 31, 3, 2, 27, 34, 20, 33, 38, 22, 24, 40, 29, 28, 4, 14, 16, 15, 37, 7, 6, 1]\n",
      "Búsqueda Tabú v.2   :\n",
      " [0, 27, 2, 4, 18, 12, 11, 25, 41, 23, 21, 40, 24, 39, 31, 17, 36, 35, 33, 20, 3, 6, 1, 7, 37, 15, 16, 14, 19, 13, 5, 26, 10, 8, 9, 29, 30, 28, 32, 34, 38, 22]\n"
     ]
    }
   ],
   "source": [
    "# Rutas\n",
    "print(\"RUTAS:\")\n",
    "print(\"Solución Aleatoria  :\\n\", solucion_aleatoria)\n",
    "print(\"Búsqueda Local      :\\n\", solucion_busq_local_ruta)\n",
    "print(\"Simulated Annealing :\\n\", solucion_SA_ruta)\n",
    "print(\"Búsqueda Tabú       :\\n\", solucion_busq_tabu_ruta)\n",
    "print(\"Búsqueda Tabú v.2   :\\n\", solucion_busq_tabu_ruta_v2)"
   ]
  },
  {
   "cell_type": "markdown",
   "metadata": {},
   "source": [
    "- La implementación de la búsqueda tabú para el TSP ha demostrado ser una estrategia efectiva para mejorar las soluciones iniciales del problema.  \n",
    "- La versión inicial proporcionó una mejora sustancial sobre enfoques más simples como la búsqueda aleatoria y local, mientras que la versión mejorada, al incorporar un mecanismo de aceptación de soluciones peores basado en la probabilidad, ha permitido explorar más ampliamente el espacio de soluciones y escapar de óptimos locales, resultando en una mejora adicional.  \n",
    "- Estos resultados subrayan la importancia de la exploración y la explotación equilibradas en los algoritmos de optimización, así como el valor de las estrategias adaptativas para navegar eficientemente por paisajes complejos de soluciones."
   ]
  },
  {
   "cell_type": "code",
   "execution_count": null,
   "metadata": {},
   "outputs": [],
   "source": []
  }
 ],
 "metadata": {
  "colab": {
   "provenance": [],
   "toc_visible": true
  },
  "kernelspec": {
   "display_name": "Python 3 (ipykernel)",
   "language": "python",
   "name": "python3"
  },
  "language_info": {
   "codemirror_mode": {
    "name": "ipython",
    "version": 3
   },
   "file_extension": ".py",
   "mimetype": "text/x-python",
   "name": "python",
   "nbconvert_exporter": "python",
   "pygments_lexer": "ipython3",
   "version": "3.11.7"
  }
 },
 "nbformat": 4,
 "nbformat_minor": 4
}
