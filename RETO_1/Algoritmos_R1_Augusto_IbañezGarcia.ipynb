{
 "cells": [
  {
   "cell_type": "markdown",
   "metadata": {
    "id": "kQn6fbhgtH9I"
   },
   "source": [
    "# Algoritmos de optimización - Reto 1\n",
    "\n",
    "Nombre: Augusto Javier Ibañez Garcia  \n",
    "Github: https://github.com/cibergus/VIU-AlgOptimizacion<br>"
   ]
  },
  {
   "cell_type": "code",
   "execution_count": 1,
   "metadata": {
    "execution": {
     "iopub.execute_input": "2024-02-26T17:25:38.498552Z",
     "iopub.status.busy": "2024-02-26T17:25:38.498050Z",
     "iopub.status.idle": "2024-02-26T17:25:39.920421Z",
     "shell.execute_reply": "2024-02-26T17:25:39.919391Z",
     "shell.execute_reply.started": "2024-02-26T17:25:38.498519Z"
    }
   },
   "outputs": [],
   "source": [
    "# INSTALLS & IMPORTS del proyecto\n",
    "import time\n",
    "import matplotlib.pyplot as plt\n"
   ]
  },
  {
   "cell_type": "markdown",
   "metadata": {
    "id": "_t62Ge7ZuKnC"
   },
   "source": [
    "## Torres de Hanoi con Divide y vencerás\n",
    "\n",
    "Resuelve el problema de las [Torres de Hanoi](https://es.wikipedia.org/wiki/Torres_de_Han%C3%B3i) para un número arbitrario de fichas utilizando la técnica de divide y vencerás."
   ]
  },
  {
   "cell_type": "code",
   "execution_count": 2,
   "metadata": {
    "colab": {
     "base_uri": "https://localhost:8080/"
    },
    "execution": {
     "iopub.execute_input": "2024-02-26T17:25:39.922240Z",
     "iopub.status.busy": "2024-02-26T17:25:39.921780Z",
     "iopub.status.idle": "2024-02-26T17:25:39.929620Z",
     "shell.execute_reply": "2024-02-26T17:25:39.928657Z",
     "shell.execute_reply.started": "2024-02-26T17:25:39.922218Z"
    },
    "id": "i32G0CUQvauE",
    "outputId": "93e2bf6e-a3fe-45ec-9c11-0e991ef054ec"
   },
   "outputs": [],
   "source": [
    "# Torres de Hanoi\n",
    "\n",
    "# La programación dinámica se cumple al uitilizar este diccionario:\n",
    "# self.memoriza para memorizar y reutilizar los movimientos pre-calculados\n",
    "# para cada configuración única de n discos y postes. \n",
    "# Esto aprovecha la característica de superposición de subproblemas y el uso de memorización\n",
    "\n",
    "class Hanoi:\n",
    "    def __init__(self):\n",
    "        self.memoriza = {}\n",
    "    \n",
    "    def moverTorre(self, n, origen='A', auxiliar='B', destino='C'):\n",
    "        key = (n, origen, auxiliar, destino)\n",
    "        if n == 0:\n",
    "            return []\n",
    "        if key in self.memoriza:\n",
    "            return self.memoriza[key]\n",
    "        movimientos = []\n",
    "        movimientos += self.moverTorre(n-1, origen, destino, auxiliar)\n",
    "        movimientos.append(f\"Mover disco {n} de {origen} a {destino}\")\n",
    "        movimientos += self.moverTorre(n-1, auxiliar, origen, destino)\n",
    "        self.memoriza[key] = movimientos\n",
    "        return movimientos\n",
    "\n",
    "    def print_movimientos(self, n):\n",
    "        movimientos = self.moverTorre(n)\n",
    "        for move in movimientos:\n",
    "            print(move)\n"
   ]
  },
  {
   "cell_type": "code",
   "execution_count": 8,
   "metadata": {
    "execution": {
     "iopub.execute_input": "2024-02-26T17:30:15.266228Z",
     "iopub.status.busy": "2024-02-26T17:30:15.265866Z",
     "iopub.status.idle": "2024-02-26T17:30:15.272010Z",
     "shell.execute_reply": "2024-02-26T17:30:15.270767Z",
     "shell.execute_reply.started": "2024-02-26T17:30:15.266203Z"
    }
   },
   "outputs": [
    {
     "name": "stdout",
     "output_type": "stream",
     "text": [
      "Ejemplo para 3 discos:\n",
      "Mover disco 1 de A a C\n",
      "Mover disco 2 de A a B\n",
      "Mover disco 1 de C a B\n",
      "Mover disco 3 de A a C\n",
      "Mover disco 1 de B a A\n",
      "Mover disco 2 de B a C\n",
      "Mover disco 1 de A a C\n",
      "\n",
      "Ejemplo para 5 discos:\n",
      "Mover disco 1 de A a C\n",
      "Mover disco 2 de A a B\n",
      "Mover disco 1 de C a B\n",
      "Mover disco 3 de A a C\n",
      "Mover disco 1 de B a A\n",
      "Mover disco 2 de B a C\n",
      "Mover disco 1 de A a C\n",
      "Mover disco 4 de A a B\n",
      "Mover disco 1 de C a B\n",
      "Mover disco 2 de C a A\n",
      "Mover disco 1 de B a A\n",
      "Mover disco 3 de C a B\n",
      "Mover disco 1 de A a C\n",
      "Mover disco 2 de A a B\n",
      "Mover disco 1 de C a B\n",
      "Mover disco 5 de A a C\n",
      "Mover disco 1 de B a A\n",
      "Mover disco 2 de B a C\n",
      "Mover disco 1 de A a C\n",
      "Mover disco 3 de B a A\n",
      "Mover disco 1 de C a B\n",
      "Mover disco 2 de C a A\n",
      "Mover disco 1 de B a A\n",
      "Mover disco 4 de B a C\n",
      "Mover disco 1 de A a C\n",
      "Mover disco 2 de A a B\n",
      "Mover disco 1 de C a B\n",
      "Mover disco 3 de A a C\n",
      "Mover disco 1 de B a A\n",
      "Mover disco 2 de B a C\n",
      "Mover disco 1 de A a C\n"
     ]
    }
   ],
   "source": [
    "# Ejemplo para 3 y 5 discos\n",
    "n_discos = 3\n",
    "print(f'Ejemplo para {n_discos} discos:')\n",
    "hanoi = Hanoi()\n",
    "hanoi.print_movimientos(n_discos)\n",
    "\n",
    "print()\n",
    "\n",
    "n_discos = 5\n",
    "print(f'Ejemplo para {n_discos} discos:')\n",
    "hanoi = Hanoi()\n",
    "hanoi.print_movimientos(n_discos)"
   ]
  },
  {
   "cell_type": "markdown",
   "metadata": {
    "id": "Ci2gv2nUHnjK"
   },
   "source": [
    "## Sucesión de Fibonacci\n",
    "\n",
    "Cálcula el n-ésimo término de la [Sucesión de Fibonacci](https://es.wikipedia.org/wiki/Sucesi%C3%B3n_de_Fibonacci) mediante un algoritmo recursivo y otro iterativo. Representa gráficamente cómo crece el tiempo de cómputo en función del número de términos para ambos algoritmos."
   ]
  },
  {
   "cell_type": "code",
   "execution_count": 4,
   "metadata": {
    "colab": {
     "base_uri": "https://localhost:8080/",
     "height": 448
    },
    "execution": {
     "iopub.execute_input": "2024-02-26T17:25:39.940702Z",
     "iopub.status.busy": "2024-02-26T17:25:39.940353Z",
     "iopub.status.idle": "2024-02-26T17:25:42.877494Z",
     "shell.execute_reply": "2024-02-26T17:25:42.876467Z",
     "shell.execute_reply.started": "2024-02-26T17:25:39.940679Z"
    },
    "id": "74qZZAekiNYR",
    "outputId": "ba4fa8f9-1b44-46ea-a921-40cadd0a84e0"
   },
   "outputs": [
    {
     "data": {
      "image/png": "[encoded data removed]",
      "text/plain": [
       "<Figure size 640x480 with 1 Axes>"
      ]
     },
     "metadata": {},
     "output_type": "display_data"
    }
   ],
   "source": [
    "#Sucesión_de_Fibonacci\n",
    "\n",
    "# Número de muestras a considerar en el problema\n",
    "muestras = 35\n",
    "\n",
    "def fibonacci_recursivo(n):\n",
    "    if n <= 1:\n",
    "        return n\n",
    "    else:\n",
    "        return fibonacci_recursivo(n-1) + fibonacci_recursivo(n-2)\n",
    "\n",
    "def fibonacci_iterativo(n):\n",
    "    a, b = 0, 1\n",
    "    for i in range(n):\n",
    "        a, b = b, a + b\n",
    "    return a\n",
    "\n",
    "num_muestras = list(range(muestras))\n",
    "tiempos_recursivos = []\n",
    "tiempos_iterativos = []\n",
    "\n",
    "# Medir los tiempos para la función recursiva\n",
    "for n in num_muestras:\n",
    "    inicio = time.time()\n",
    "    fibonacci_recursivo(n)\n",
    "    fin = time.time()\n",
    "    tiempos_recursivos.append(fin - inicio)\n",
    "\n",
    "# Medir los tiempos para la función iterativa\n",
    "for n in num_muestras:\n",
    "    inicio = time.time()\n",
    "    fibonacci_iterativo(n)\n",
    "    fin = time.time()\n",
    "    tiempos_iterativos.append(fin - inicio)\n",
    "\n",
    "# Gráfica\n",
    "plt.plot(num_muestras, tiempos_recursivos, label='Recursivo', color='red')\n",
    "plt.plot(num_muestras, tiempos_iterativos, label='Iterativo', color='blue')\n",
    "plt.xlabel('Término')\n",
    "plt.ylabel('Tiempo de cómputo')\n",
    "plt.legend()\n",
    "plt.show()"
   ]
  },
  {
   "cell_type": "markdown",
   "metadata": {
    "id": "RgT5XJsZ429L"
   },
   "source": [
    "## Devolución de cambio por técnica voraz\n",
    "\n",
    "Resuelve el [Problema del Cambio de Moneda](https://es.wikipedia.org/wiki/Problema_de_cambio_de_monedas) utilizando una técnica voraz."
   ]
  },
  {
   "cell_type": "code",
   "execution_count": 10,
   "metadata": {
    "colab": {
     "base_uri": "https://localhost:8080/"
    },
    "execution": {
     "iopub.execute_input": "2024-02-26T17:31:20.130923Z",
     "iopub.status.busy": "2024-02-26T17:31:20.130603Z",
     "iopub.status.idle": "2024-02-26T17:31:20.138750Z",
     "shell.execute_reply": "2024-02-26T17:31:20.137574Z",
     "shell.execute_reply.started": "2024-02-26T17:31:20.130901Z"
    },
    "id": "uJtftBLU4-ap",
    "outputId": "7fba4265-be70-4ff9-e41e-4618fba8d26c"
   },
   "outputs": [
    {
     "name": "stdout",
     "output_type": "stream",
     "text": [
      "Ejemplo 1: Cambio para 93 céntimos: [50, 20, 20, 2, 1]\n",
      "Ejemplo 2: Cambio para 287 céntimos: [100, 100, 50, 25, 10, 1, 1]\n"
     ]
    }
   ],
   "source": [
    "# Problema del cambio de moneda\n",
    "\n",
    "def devolucionCambioVoraz(cantidad, monedas):\n",
    "    monedas.sort(reverse=True)\n",
    "    cambio = []\n",
    "    for denominacion in monedas:\n",
    "        monedas = cantidad // denominacion\n",
    "        cantidad -= monedas * denominacion\n",
    "        cambio.extend([denominacion] * monedas)\n",
    "    return cambio\n",
    "\n",
    "\n",
    "# Ejemplo 1:\n",
    "monedas = [50, 20, 10, 5, 2, 1]\n",
    "cantidad = 93\n",
    "cambio = devolucionCambioVoraz(cantidad, monedas)\n",
    "print(f\"Ejemplo 1: Cambio para {cantidad} céntimos: {cambio}\")\n",
    "\n",
    "# Ejemplo 2:\n",
    "monedas = [100, 50, 25, 10, 5, 1]\n",
    "cantidad = 287\n",
    "cambio = devolucionCambioVoraz(cantidad, monedas)\n",
    "print(f\"Ejemplo 2: Cambio para {cantidad} céntimos: {cambio}\")\n"
   ]
  },
  {
   "cell_type": "markdown",
   "metadata": {
    "id": "g8M9GTvy_Fa3"
   },
   "source": [
    "## N-Reinas por técnica de vuelta atrás\n",
    "Resuelve el [Problema de las N-Reinas](https://es.wikipedia.org/wiki/Problema_de_las_ocho_reinas) en un tablero de dimensión N mediante la técnica de la vuelta atrás (backtraking)."
   ]
  },
  {
   "cell_type": "code",
   "execution_count": 6,
   "metadata": {
    "colab": {
     "base_uri": "https://localhost:8080/"
    },
    "execution": {
     "iopub.execute_input": "2024-02-26T17:25:42.888260Z",
     "iopub.status.busy": "2024-02-26T17:25:42.887626Z",
     "iopub.status.idle": "2024-02-26T17:25:42.897904Z",
     "shell.execute_reply": "2024-02-26T17:25:42.897021Z",
     "shell.execute_reply.started": "2024-02-26T17:25:42.888237Z"
    },
    "id": "FqOPyCmv_K65",
    "outputId": "5e2c867e-19a0-4202-bb7b-d5c1f032cf0f"
   },
   "outputs": [
    {
     "name": "stdout",
     "output_type": "stream",
     "text": [
      "Ejemplo 1 para 6 columnas:\n",
      "[0, 1, 0, 0, 0, 0]\n",
      "[0, 0, 0, 1, 0, 0]\n",
      "[0, 0, 0, 0, 0, 1]\n",
      "[1, 0, 0, 0, 0, 0]\n",
      "[0, 0, 1, 0, 0, 0]\n",
      "[0, 0, 0, 0, 1, 0]\n",
      "\n",
      "Ejemplo 2 para 8 columnas:\n",
      "[1, 0, 0, 0, 0, 0, 0, 0]\n",
      "[0, 0, 0, 0, 1, 0, 0, 0]\n",
      "[0, 0, 0, 0, 0, 0, 0, 1]\n",
      "[0, 0, 0, 0, 0, 1, 0, 0]\n",
      "[0, 0, 1, 0, 0, 0, 0, 0]\n",
      "[0, 0, 0, 0, 0, 0, 1, 0]\n",
      "[0, 1, 0, 0, 0, 0, 0, 0]\n",
      "[0, 0, 0, 1, 0, 0, 0, 0]\n",
      "\n"
     ]
    }
   ],
   "source": [
    "# Problema de las N-Reinas\n",
    "\n",
    "# Comprobar si la columna o las diagonales tienen otra reina\n",
    "def esSeguro(tablero, fila, columna, N):\n",
    "    for i in range(fila):\n",
    "        if tablero[i][columna] == 1:\n",
    "            return False\n",
    "    for i, j in zip(range(fila, -1, -1), range(columna, -1, -1)):\n",
    "        if tablero[i][j] == 1:\n",
    "            return False\n",
    "    for i, j in zip(range(fila, -1, -1), range(columna, N)):\n",
    "        if tablero[i][j] == 1:\n",
    "            return False\n",
    "    return True\n",
    "\n",
    "def resolverNReinas(tablero, fila, N):\n",
    "    if fila >= N:\n",
    "        return True\n",
    "    for columna in range(N):\n",
    "        if esSeguro(tablero, fila, columna, N):\n",
    "            tablero[fila][columna] = 1\n",
    "            if resolverNReinas(tablero, fila + 1, N):\n",
    "                return True\n",
    "            tablero[fila][columna] = 0\n",
    "    return False\n",
    "\n",
    "\n",
    "def imprimirSolucion(tablero, N):\n",
    "    if resolverNReinas(tablero, 0, N):\n",
    "        for fila in tablero:\n",
    "            print(fila)\n",
    "    else:\n",
    "        print(\"No hay solución\")\n",
    "    print()\n",
    "\n",
    "# Ejemplo 1\n",
    "N = 6\n",
    "print(f'Ejemplo 1 para {N} columnas:')\n",
    "tablero = [[0] * N for _ in range(N)]\n",
    "imprimirSolucion(tablero, N)\n",
    "\n",
    "# Ejemplo 2\n",
    "N = 8\n",
    "print(f'Ejemplo 2 para {N} columnas:')\n",
    "tablero = [[0] * N for _ in range(N)]\n",
    "imprimirSolucion(tablero, N)\n"
   ]
  },
  {
   "cell_type": "code",
   "execution_count": null,
   "metadata": {
    "id": "LajmZ50UHnjQ"
   },
   "outputs": [],
   "source": []
  }
 ],
 "metadata": {
  "colab": {
   "provenance": [],
   "toc_visible": true
  },
  "kernelspec": {
   "display_name": "Python 3 (ipykernel)",
   "language": "python",
   "name": "python3"
  },
  "language_info": {
   "codemirror_mode": {
    "name": "ipython",
    "version": 3
   },
   "file_extension": ".py",
   "mimetype": "text/x-python",
   "name": "python",
   "nbconvert_exporter": "python",
   "pygments_lexer": "ipython3",
   "version": "3.11.7"
  }
 },
 "nbformat": 4,
 "nbformat_minor": 4
}
